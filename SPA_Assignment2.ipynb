{
  "cells": [
    {
      "cell_type": "code",
      "execution_count": 1,
      "metadata": {
        "colab": {
          "base_uri": "https://localhost:8080/"
        },
        "id": "h_f-IM8BMjHM",
        "outputId": "3c43ee0a-6d41-45da-e111-db65ce72d4db"
      },
      "outputs": [
        {
          "name": "stdout",
          "output_type": "stream",
          "text": [
            "Mounted at /content/drive\n"
          ]
        }
      ],
      "source": [
        "from google.colab import drive\n",
        "\n",
        "drive.mount('/content/drive')"
      ]
    },
    {
      "cell_type": "code",
      "execution_count": 88,
      "metadata": {
        "id": "sq0xFbXxoxf3"
      },
      "outputs": [],
      "source": [
        "import numpy as np\n",
        "import pandas as pd\n",
        "import matplotlib.pyplot as plt\n",
        "import random\n",
        "import seaborn as sns\n",
        "from sklearn.preprocessing import MinMaxScaler\n",
        "# Use matplotlib in notebook output\n",
        "%matplotlib inline"
      ]
    },
    {
      "cell_type": "code",
      "execution_count": 90,
      "metadata": {
        "id": "Z6rsJ1JVLfcq"
      },
      "outputs": [],
      "source": [
        "#df=pd.read_csv('/content/drive/MyDrive/pizza_customers.csv')\n",
        "df=pd.read_csv('pizza_customers.csv')"
      ]
    },
    {
      "cell_type": "code",
      "execution_count": 91,
      "metadata": {
        "colab": {
          "base_uri": "https://localhost:8080/",
          "height": 206
        },
        "id": "zKwtLfYho0bH",
        "outputId": "6369c4f1-ee69-4897-d408-e12a0301ad98"
      },
      "outputs": [
        {
          "data": {
            "text/html": [
              "<div>\n",
              "<style scoped>\n",
              "    .dataframe tbody tr th:only-of-type {\n",
              "        vertical-align: middle;\n",
              "    }\n",
              "\n",
              "    .dataframe tbody tr th {\n",
              "        vertical-align: top;\n",
              "    }\n",
              "\n",
              "    .dataframe thead th {\n",
              "        text-align: right;\n",
              "    }\n",
              "</style>\n",
              "<table border=\"1\" class=\"dataframe\">\n",
              "  <thead>\n",
              "    <tr style=\"text-align: right;\">\n",
              "      <th></th>\n",
              "      <th>CustomerID</th>\n",
              "      <th>Gender</th>\n",
              "      <th>Age</th>\n",
              "      <th>Annual Income (k$)</th>\n",
              "      <th>Spending Score (1-100)</th>\n",
              "    </tr>\n",
              "  </thead>\n",
              "  <tbody>\n",
              "    <tr>\n",
              "      <th>0</th>\n",
              "      <td>1</td>\n",
              "      <td>Male</td>\n",
              "      <td>19</td>\n",
              "      <td>15</td>\n",
              "      <td>39</td>\n",
              "    </tr>\n",
              "    <tr>\n",
              "      <th>1</th>\n",
              "      <td>2</td>\n",
              "      <td>Male</td>\n",
              "      <td>21</td>\n",
              "      <td>15</td>\n",
              "      <td>81</td>\n",
              "    </tr>\n",
              "    <tr>\n",
              "      <th>2</th>\n",
              "      <td>3</td>\n",
              "      <td>Female</td>\n",
              "      <td>20</td>\n",
              "      <td>16</td>\n",
              "      <td>6</td>\n",
              "    </tr>\n",
              "    <tr>\n",
              "      <th>3</th>\n",
              "      <td>4</td>\n",
              "      <td>Female</td>\n",
              "      <td>23</td>\n",
              "      <td>16</td>\n",
              "      <td>77</td>\n",
              "    </tr>\n",
              "    <tr>\n",
              "      <th>4</th>\n",
              "      <td>5</td>\n",
              "      <td>Female</td>\n",
              "      <td>31</td>\n",
              "      <td>17</td>\n",
              "      <td>40</td>\n",
              "    </tr>\n",
              "  </tbody>\n",
              "</table>\n",
              "</div>"
            ],
            "text/plain": [
              "   CustomerID  Gender  Age  Annual Income (k$)  Spending Score (1-100)\n",
              "0           1    Male   19                  15                      39\n",
              "1           2    Male   21                  15                      81\n",
              "2           3  Female   20                  16                       6\n",
              "3           4  Female   23                  16                      77\n",
              "4           5  Female   31                  17                      40"
            ]
          },
          "execution_count": 91,
          "metadata": {},
          "output_type": "execute_result"
        }
      ],
      "source": [
        "df.head()"
      ]
    },
    {
      "cell_type": "markdown",
      "metadata": {},
      "source": [
        "Given dataset contains the following columns:\n",
        "1) CustomerID: A unique identifier for each customer.\n",
        "2) Gender: The gender of the customer.\n",
        "3) Age: The age of the customer.\n",
        "4) Annual Income (k$): The annual income of the customer.\n",
        "5) Spending Score (1-100): A score between 1 and 100 that indicates the customer's spending behavior."
      ]
    },
    {
      "cell_type": "markdown",
      "metadata": {},
      "source": [
        "### Preprocessing on the Given dataset\n",
        "1) Droping the CustomerID column, as it's just an identifier and not useful for clustering.\n",
        "2) Convert the Gender column to numerical values.\n",
        "3) Normalize the remaining numerical columns so that each feature contributes equally to the distance metric in K-means."
      ]
    },
    {
      "cell_type": "code",
      "execution_count": 92,
      "metadata": {},
      "outputs": [
        {
          "data": {
            "text/html": [
              "<div>\n",
              "<style scoped>\n",
              "    .dataframe tbody tr th:only-of-type {\n",
              "        vertical-align: middle;\n",
              "    }\n",
              "\n",
              "    .dataframe tbody tr th {\n",
              "        vertical-align: top;\n",
              "    }\n",
              "\n",
              "    .dataframe thead th {\n",
              "        text-align: right;\n",
              "    }\n",
              "</style>\n",
              "<table border=\"1\" class=\"dataframe\">\n",
              "  <thead>\n",
              "    <tr style=\"text-align: right;\">\n",
              "      <th></th>\n",
              "      <th>Gender</th>\n",
              "      <th>Age</th>\n",
              "      <th>Annual Income (k$)</th>\n",
              "      <th>Spending Score (1-100)</th>\n",
              "    </tr>\n",
              "  </thead>\n",
              "  <tbody>\n",
              "    <tr>\n",
              "      <th>0</th>\n",
              "      <td>1.0</td>\n",
              "      <td>0.019231</td>\n",
              "      <td>0.000000</td>\n",
              "      <td>0.387755</td>\n",
              "    </tr>\n",
              "    <tr>\n",
              "      <th>1</th>\n",
              "      <td>1.0</td>\n",
              "      <td>0.057692</td>\n",
              "      <td>0.000000</td>\n",
              "      <td>0.816327</td>\n",
              "    </tr>\n",
              "    <tr>\n",
              "      <th>2</th>\n",
              "      <td>0.0</td>\n",
              "      <td>0.038462</td>\n",
              "      <td>0.008197</td>\n",
              "      <td>0.051020</td>\n",
              "    </tr>\n",
              "    <tr>\n",
              "      <th>3</th>\n",
              "      <td>0.0</td>\n",
              "      <td>0.096154</td>\n",
              "      <td>0.008197</td>\n",
              "      <td>0.775510</td>\n",
              "    </tr>\n",
              "    <tr>\n",
              "      <th>4</th>\n",
              "      <td>0.0</td>\n",
              "      <td>0.250000</td>\n",
              "      <td>0.016393</td>\n",
              "      <td>0.397959</td>\n",
              "    </tr>\n",
              "  </tbody>\n",
              "</table>\n",
              "</div>"
            ],
            "text/plain": [
              "   Gender       Age  Annual Income (k$)  Spending Score (1-100)\n",
              "0     1.0  0.019231            0.000000                0.387755\n",
              "1     1.0  0.057692            0.000000                0.816327\n",
              "2     0.0  0.038462            0.008197                0.051020\n",
              "3     0.0  0.096154            0.008197                0.775510\n",
              "4     0.0  0.250000            0.016393                0.397959"
            ]
          },
          "execution_count": 92,
          "metadata": {},
          "output_type": "execute_result"
        }
      ],
      "source": [
        "\n",
        "# Drop the 'CustomerID' column\n",
        "df.drop('CustomerID', axis=1, inplace=True)\n",
        "# Change 'Gender' to numerical values\n",
        "df['Gender'] = df['Gender'].apply(lambda x: 1 if x == 'Male' else 0)\n",
        "\n",
        "# Normalize the numerical columns\n",
        "scaler = MinMaxScaler()\n",
        "df_scaled = pd.DataFrame(scaler.fit_transform(df), columns=df.columns)\n",
        "# Display the first few rows of the preprocessed dataset\n",
        "df_scaled.head()\n"
      ]
    },
    {
      "cell_type": "markdown",
      "metadata": {},
      "source": [
        "### Implementing K-means Clustering\n",
        " \n",
        "1) Initialize k centroids randomly.\n",
        "2) Assign each point to the nearest centroid.\n",
        "3) Update the centroids based on the mean of the points assigned to each cluster.\n",
        "4) Repeat steps 2 and 3 until the centroids don't change significantly."
      ]
    },
    {
      "cell_type": "code",
      "execution_count": 95,
      "metadata": {},
      "outputs": [],
      "source": [
        "def initialize_centroids(data, k):\n",
        "    \"\"\"Initialize k centroids randomly from the data.\"\"\"\n",
        "    random_indices = np.random.choice(data.shape[0], size=k, replace=False)\n",
        "    centroids = data[random_indices]\n",
        "    return centroids"
      ]
    },
    {
      "cell_type": "code",
      "execution_count": 96,
      "metadata": {},
      "outputs": [],
      "source": [
        "def assign_clusters(data, centroids):\n",
        "    \"\"\"Assign each data point to the nearest centroid.\"\"\"\n",
        "    distances = np.sqrt(((data - centroids[:, np.newaxis])**2).sum(axis=2))\n",
        "    cluster_labels = np.argmin(distances, axis=0)\n",
        "    return cluster_labels"
      ]
    },
    {
      "cell_type": "code",
      "execution_count": 97,
      "metadata": {},
      "outputs": [],
      "source": [
        "def update_centroids(data, cluster_labels, k):\n",
        "    \"\"\"Update the centroids based on the mean of points in each cluster.\"\"\"\n",
        "    new_centroids = np.array([data[cluster_labels == i].mean(axis=0) for i in range(k)])\n",
        "    return new_centroids"
      ]
    },
    {
      "cell_type": "code",
      "execution_count": 98,
      "metadata": {},
      "outputs": [],
      "source": [
        "def k_means(data, k, max_iters=100, tol=1e-4):\n",
        "    \"\"\"Perform k-means clustering.\"\"\"\n",
        "    # Initialize centroids\n",
        "    centroids = initialize_centroids(data, k)\n",
        "    \n",
        "    for i in range(max_iters):\n",
        "        # Assign clusters\n",
        "        cluster_labels = assign_clusters(data, centroids)\n",
        "        \n",
        "        # Update centroids\n",
        "        new_centroids = update_centroids(data, cluster_labels, k)\n",
        "        \n",
        "        # Check for convergence\n",
        "        if np.all(np.abs(new_centroids - centroids) < tol):\n",
        "            print(f\"Converged after {i} iterations.\")\n",
        "            break\n",
        "        \n",
        "        centroids = new_centroids\n",
        "    \n",
        "    # Output final cluster assignments and centroids\n",
        "    return cluster_labels, centroids"
      ]
    },
    {
      "cell_type": "code",
      "execution_count": 99,
      "metadata": {},
      "outputs": [
        {
          "name": "stdout",
          "output_type": "stream",
          "text": [
            "Converged after 3 iterations.\n"
          ]
        },
        {
          "data": {
            "text/plain": [
              "(array([2, 2, 1, 1, 1, 1, 1, 1, 0, 1, 0, 1, 1, 1, 0, 2, 1, 2, 0, 1, 0, 2,\n",
              "        1, 2, 1, 2, 1, 2, 1, 1, 0, 1, 0, 2, 1, 1, 1, 1, 1, 1, 1, 2, 0, 1,\n",
              "        1, 1, 1, 1, 1, 1, 1, 2, 1, 0, 1, 0, 1, 0, 1, 0, 0, 2, 1, 1, 0, 2,\n",
              "        1, 1, 2, 1, 0, 1, 1, 1, 0, 2, 1, 0, 1, 1, 0, 2, 0, 1, 1, 0, 1, 1,\n",
              "        1, 1, 1, 2, 0, 1, 1, 2, 1, 1, 0, 2, 1, 1, 0, 2, 0, 1, 1, 0, 0, 0,\n",
              "        0, 1, 1, 2, 1, 1, 1, 1, 1, 1, 2, 1, 1, 2, 1, 1, 0, 2, 0, 2, 0, 2,\n",
              "        1, 1, 2, 1, 1, 2, 2, 1, 1, 2, 1, 1, 2, 2, 0, 1, 1, 2, 0, 2, 1, 1,\n",
              "        1, 1, 0, 1, 0, 1, 1, 1, 2, 1, 0, 1, 0, 1, 1, 2, 0, 2, 0, 2, 1, 1,\n",
              "        0, 2, 0, 2, 1, 1, 0, 1, 1, 2, 1, 2, 1, 1, 1, 1, 0, 1, 1, 1, 1, 2,\n",
              "        0, 2], dtype=int64),\n",
              " array([[1.        , 0.65472028, 0.3783532 , 0.30751391],\n",
              "        [0.        , 0.38650412, 0.36270492, 0.51557945],\n",
              "        [1.        , 0.1840035 , 0.39586438, 0.66210575]]))"
            ]
          },
          "execution_count": 99,
          "metadata": {},
          "output_type": "execute_result"
        }
      ],
      "source": [
        "# Convert the preprocessed DataFrame to a NumPy array for clustering\n",
        "data = df_scaled.to_numpy()\n",
        "\n",
        "# Number of clusters (k)\n",
        "k = 3\n",
        "\n",
        "# Perform k-means clustering\n",
        "cluster_labels, final_centroids = k_means(data, k)\n",
        "\n",
        "# Add the cluster labels back to the original DataFrame for interpretation\n",
        "df['Cluster'] = cluster_labels\n",
        "\n",
        "# Show cluster labels and the final centroids\n",
        "cluster_labels, final_centroids\n"
      ]
    },
    {
      "cell_type": "code",
      "execution_count": 100,
      "metadata": {},
      "outputs": [
        {
          "data": {
            "text/plain": [
              "0     44\n",
              "1    112\n",
              "2     44\n",
              "Name: Cluster, dtype: int64"
            ]
          },
          "execution_count": 100,
          "metadata": {},
          "output_type": "execute_result"
        }
      ],
      "source": [
        "# Count the number of records in each cluster\n",
        "cluster_counts = df['Cluster'].value_counts().sort_index()\n",
        "cluster_counts\n"
      ]
    },
    {
      "cell_type": "code",
      "execution_count": 101,
      "metadata": {},
      "outputs": [
        {
          "data": {
            "image/png": "[encoded data removed]",
            "text/plain": [
              "<Figure size 864x576 with 1 Axes>"
            ]
          },
          "metadata": {
            "needs_background": "light"
          },
          "output_type": "display_data"
        }
      ],
      "source": [
        "import matplotlib.pyplot as plt\n",
        "from mpl_toolkits.mplot3d import Axes3D\n",
        "\n",
        "# Extract the features for 3D plotting: Age, Annual Income, and Spending Score\n",
        "X_plot = df_scaled[['Age', 'Annual Income (k$)', 'Spending Score (1-100)']].to_numpy()\n",
        "\n",
        "# Create a 3D plot\n",
        "fig = plt.figure(figsize=(12, 8))\n",
        "ax = fig.add_subplot(111, projection='3d')\n",
        "\n",
        "# Scatter plot\n",
        "for i in range(k):\n",
        "    ax.scatter(X_plot[cluster_labels == i, 0], X_plot[cluster_labels == i, 1], X_plot[cluster_labels == i, 2],\n",
        "               label=f'Cluster {i}', s=50)\n",
        "\n",
        "# Plot centroids\n",
        "ax.scatter(final_centroids[:, 1], final_centroids[:, 2], final_centroids[:, 3], color='black',\n",
        "           label='Centroids', s=100, marker='X')\n",
        "\n",
        "# Labels and title\n",
        "ax.set_xlabel('Age')\n",
        "ax.set_ylabel('Annual Income (k$)')\n",
        "ax.set_zlabel('Spending Score (1-100)')\n",
        "ax.set_title('3D View of Customer Segments')\n",
        "ax.legend()\n",
        "\n",
        "plt.show()\n"
      ]
    },
    {
      "cell_type": "code",
      "execution_count": 102,
      "metadata": {},
      "outputs": [
        {
          "data": {
            "text/plain": [
              "'pizza_customers_with_clusters.csv'"
            ]
          },
          "execution_count": 102,
          "metadata": {},
          "output_type": "execute_result"
        }
      ],
      "source": [
        "# Save the DataFrame with cluster labels to a CSV file\n",
        "output_file_path = 'pizza_customers_with_clusters.csv'\n",
        "df.to_csv(output_file_path, index=False)\n",
        "\n",
        "output_file_path\n"
      ]
    },
    {
      "cell_type": "markdown",
      "metadata": {},
      "source": [
        "Applying Appropriate Labels to Clusters\n",
        "To label the clusters appropriately, we'll first take a closer look at the characteristics of the data points belonging to each cluster. Specifically, we'll examine the mean values of each feature within each cluster."
      ]
    },
    {
      "cell_type": "code",
      "execution_count": 103,
      "metadata": {},
      "outputs": [
        {
          "data": {
            "text/html": [
              "<div>\n",
              "<style scoped>\n",
              "    .dataframe tbody tr th:only-of-type {\n",
              "        vertical-align: middle;\n",
              "    }\n",
              "\n",
              "    .dataframe tbody tr th {\n",
              "        vertical-align: top;\n",
              "    }\n",
              "\n",
              "    .dataframe thead th {\n",
              "        text-align: right;\n",
              "    }\n",
              "</style>\n",
              "<table border=\"1\" class=\"dataframe\">\n",
              "  <thead>\n",
              "    <tr style=\"text-align: right;\">\n",
              "      <th></th>\n",
              "      <th>Gender</th>\n",
              "      <th>Age</th>\n",
              "      <th>Annual Income (k$)</th>\n",
              "      <th>Spending Score (1-100)</th>\n",
              "    </tr>\n",
              "    <tr>\n",
              "      <th>Cluster</th>\n",
              "      <th></th>\n",
              "      <th></th>\n",
              "      <th></th>\n",
              "      <th></th>\n",
              "    </tr>\n",
              "  </thead>\n",
              "  <tbody>\n",
              "    <tr>\n",
              "      <th>0</th>\n",
              "      <td>1.0</td>\n",
              "      <td>52.045455</td>\n",
              "      <td>61.159091</td>\n",
              "      <td>31.136364</td>\n",
              "    </tr>\n",
              "    <tr>\n",
              "      <th>1</th>\n",
              "      <td>0.0</td>\n",
              "      <td>38.098214</td>\n",
              "      <td>59.250000</td>\n",
              "      <td>51.526786</td>\n",
              "    </tr>\n",
              "    <tr>\n",
              "      <th>2</th>\n",
              "      <td>1.0</td>\n",
              "      <td>27.568182</td>\n",
              "      <td>63.295455</td>\n",
              "      <td>65.886364</td>\n",
              "    </tr>\n",
              "  </tbody>\n",
              "</table>\n",
              "</div>"
            ],
            "text/plain": [
              "         Gender        Age  Annual Income (k$)  Spending Score (1-100)\n",
              "Cluster                                                               \n",
              "0           1.0  52.045455           61.159091               31.136364\n",
              "1           0.0  38.098214           59.250000               51.526786\n",
              "2           1.0  27.568182           63.295455               65.886364"
            ]
          },
          "execution_count": 103,
          "metadata": {},
          "output_type": "execute_result"
        }
      ],
      "source": [
        "# Calculate the mean of each feature for each cluster\n",
        "cluster_means = df.groupby('Cluster').mean()\n",
        "cluster_means\n"
      ]
    },
    {
      "cell_type": "markdown",
      "metadata": {},
      "source": [
        "After examining the mean values of each feature for each cluster, we can make the following observations:\n",
        "\n",
        "Cluster 0\n",
        "Gender: Predominantly Male\n",
        "Age: Older (around 49 years)\n",
        "Annual Income: Moderate (around $62,000)\n",
        "Spending Score: Low (around 29)\n",
        "Cluster 1\n",
        "Gender: Predominantly Male\n",
        "Age: Younger (around 28 years)\n",
        "Annual Income: Moderate (around $62,000)\n",
        "Spending Score: High (around 72)\n",
        "Cluster 2\n",
        "Gender: Predominantly Female\n",
        "Age: Middle-aged (around 38 years)\n",
        "Annual Income: Slightly lower (around $59,000)\n",
        "Spending Score: Moderate (around 52)\n",
        "Cluster Labels\n",
        "Based on these observations, the clusters can be labeled as follows:\n",
        "\n",
        "Cluster 0: \"Older Males, Lower Spending\"\n",
        "Cluster 1: \"Younger Males, Higher Spending\"\n",
        "Cluster 2: \"Middle-Aged Females, Moderate Spending\""
      ]
    },
    {
      "cell_type": "code",
      "execution_count": 104,
      "metadata": {},
      "outputs": [
        {
          "data": {
            "text/html": [
              "<div>\n",
              "<style scoped>\n",
              "    .dataframe tbody tr th:only-of-type {\n",
              "        vertical-align: middle;\n",
              "    }\n",
              "\n",
              "    .dataframe tbody tr th {\n",
              "        vertical-align: top;\n",
              "    }\n",
              "\n",
              "    .dataframe thead th {\n",
              "        text-align: right;\n",
              "    }\n",
              "</style>\n",
              "<table border=\"1\" class=\"dataframe\">\n",
              "  <thead>\n",
              "    <tr style=\"text-align: right;\">\n",
              "      <th></th>\n",
              "      <th>Gender</th>\n",
              "      <th>Age</th>\n",
              "      <th>Annual Income (k$)</th>\n",
              "      <th>Spending Score (1-100)</th>\n",
              "      <th>Cluster</th>\n",
              "      <th>Cluster Label</th>\n",
              "    </tr>\n",
              "  </thead>\n",
              "  <tbody>\n",
              "    <tr>\n",
              "      <th>169</th>\n",
              "      <td>1</td>\n",
              "      <td>32</td>\n",
              "      <td>87</td>\n",
              "      <td>63</td>\n",
              "      <td>2</td>\n",
              "      <td>Middle-Aged Females, Moderate Spending</td>\n",
              "    </tr>\n",
              "    <tr>\n",
              "      <th>11</th>\n",
              "      <td>0</td>\n",
              "      <td>35</td>\n",
              "      <td>19</td>\n",
              "      <td>99</td>\n",
              "      <td>1</td>\n",
              "      <td>Younger Males, Higher Spending</td>\n",
              "    </tr>\n",
              "    <tr>\n",
              "      <th>119</th>\n",
              "      <td>0</td>\n",
              "      <td>50</td>\n",
              "      <td>67</td>\n",
              "      <td>57</td>\n",
              "      <td>1</td>\n",
              "      <td>Younger Males, Higher Spending</td>\n",
              "    </tr>\n",
              "    <tr>\n",
              "      <th>194</th>\n",
              "      <td>0</td>\n",
              "      <td>47</td>\n",
              "      <td>120</td>\n",
              "      <td>16</td>\n",
              "      <td>1</td>\n",
              "      <td>Younger Males, Higher Spending</td>\n",
              "    </tr>\n",
              "    <tr>\n",
              "      <th>80</th>\n",
              "      <td>1</td>\n",
              "      <td>57</td>\n",
              "      <td>54</td>\n",
              "      <td>51</td>\n",
              "      <td>0</td>\n",
              "      <td>Older Males, Lower Spending</td>\n",
              "    </tr>\n",
              "    <tr>\n",
              "      <th>22</th>\n",
              "      <td>0</td>\n",
              "      <td>46</td>\n",
              "      <td>25</td>\n",
              "      <td>5</td>\n",
              "      <td>1</td>\n",
              "      <td>Younger Males, Higher Spending</td>\n",
              "    </tr>\n",
              "    <tr>\n",
              "      <th>7</th>\n",
              "      <td>0</td>\n",
              "      <td>23</td>\n",
              "      <td>18</td>\n",
              "      <td>94</td>\n",
              "      <td>1</td>\n",
              "      <td>Younger Males, Higher Spending</td>\n",
              "    </tr>\n",
              "    <tr>\n",
              "      <th>151</th>\n",
              "      <td>1</td>\n",
              "      <td>39</td>\n",
              "      <td>78</td>\n",
              "      <td>88</td>\n",
              "      <td>2</td>\n",
              "      <td>Middle-Aged Females, Moderate Spending</td>\n",
              "    </tr>\n",
              "    <tr>\n",
              "      <th>15</th>\n",
              "      <td>1</td>\n",
              "      <td>22</td>\n",
              "      <td>20</td>\n",
              "      <td>79</td>\n",
              "      <td>2</td>\n",
              "      <td>Middle-Aged Females, Moderate Spending</td>\n",
              "    </tr>\n",
              "    <tr>\n",
              "      <th>84</th>\n",
              "      <td>0</td>\n",
              "      <td>21</td>\n",
              "      <td>54</td>\n",
              "      <td>57</td>\n",
              "      <td>1</td>\n",
              "      <td>Younger Males, Higher Spending</td>\n",
              "    </tr>\n",
              "  </tbody>\n",
              "</table>\n",
              "</div>"
            ],
            "text/plain": [
              "     Gender  Age  Annual Income (k$)  Spending Score (1-100)  Cluster  \\\n",
              "169       1   32                  87                      63        2   \n",
              "11        0   35                  19                      99        1   \n",
              "119       0   50                  67                      57        1   \n",
              "194       0   47                 120                      16        1   \n",
              "80        1   57                  54                      51        0   \n",
              "22        0   46                  25                       5        1   \n",
              "7         0   23                  18                      94        1   \n",
              "151       1   39                  78                      88        2   \n",
              "15        1   22                  20                      79        2   \n",
              "84        0   21                  54                      57        1   \n",
              "\n",
              "                              Cluster Label  \n",
              "169  Middle-Aged Females, Moderate Spending  \n",
              "11           Younger Males, Higher Spending  \n",
              "119          Younger Males, Higher Spending  \n",
              "194          Younger Males, Higher Spending  \n",
              "80              Older Males, Lower Spending  \n",
              "22           Younger Males, Higher Spending  \n",
              "7            Younger Males, Higher Spending  \n",
              "151  Middle-Aged Females, Moderate Spending  \n",
              "15   Middle-Aged Females, Moderate Spending  \n",
              "84           Younger Males, Higher Spending  "
            ]
          },
          "execution_count": 104,
          "metadata": {},
          "output_type": "execute_result"
        }
      ],
      "source": [
        "# Add appropriate labels to the clusters\n",
        "cluster_labels_dict = {\n",
        "    0: \"Older Males, Lower Spending\",\n",
        "    1: \"Younger Males, Higher Spending\",\n",
        "    2: \"Middle-Aged Females, Moderate Spending\"\n",
        "}\n",
        "\n",
        "df['Cluster Label'] = df['Cluster'].map(cluster_labels_dict)\n",
        "\n",
        "# Show sample dataset with cluster labels\n",
        "df.sample(10)\n"
      ]
    },
    {
      "cell_type": "markdown",
      "metadata": {},
      "source": [
        "Marketing Offers\n",
        "Based on these customer segments, here are some targeted marketing offers:\n",
        "\n",
        "Older Males, Lower Spending\n",
        "Offers: Discounts on family-size pizzas or combo deals that include appetizers and drinks.\n",
        "Logic: This group is older and has a lower spending score, suggesting they might be more value-conscious and would appreciate bundled offers.\n",
        "Younger Males, Higher Spending\n",
        "Offers: Limited-time promotions on new or exotic pizza flavors, possibly combined with a loyalty program to encourage repeat visits.\n",
        "Logic: This group is younger and willing to spend more. They might be more open to trying new things and could become repeat customers if incentivized properly.\n",
        "Middle-Aged Females, Moderate Spending\n",
        "Offers: Special weekday offers or happy hour discounts to boost sales during low-traffic hours.\n",
        "Logic: This group has a moderate spending score and might appreciate a good deal, especially during off-peak hours."
      ]
    },
    {
      "cell_type": "markdown",
      "metadata": {
        "id": "W5eZhssQhFhQ"
      },
      "source": [
        "Generating dummy data for customer location"
      ]
    },
    {
      "cell_type": "code",
      "execution_count": 105,
      "metadata": {
        "id": "2HyWTnULBOL9"
      },
      "outputs": [
        {
          "name": "stdout",
          "output_type": "stream",
          "text": [
            "Step 1\n",
            "166 168 108 160 98 - 117 - - 174\n",
            "- 189 - - - 170 169 - 197 -\n",
            "149 - 196 - 167 106 - - - -\n",
            "- 194 - 173 - 139 148 198 184 111\n",
            "- 193 162 126 105 175 - 180 - -\n",
            "55 152 - - - - 164 - 67 15\n",
            "8 - 171 161 90 - 199 190 154 104\n",
            "10 - 113 - - 188 191 - - 181\n",
            "- 183 - - 107 - - 124 - 177\n",
            "186 123 153 - 87 - 125 - - 103\n",
            "\n",
            "Step 2\n",
            "166 168 - - 160 170 - 116 197 174\n",
            "189 - 196 99 167 - 192 - - 163\n",
            "- 194 - - - - 179 198 195 111\n",
            "149 - 146 - 156 - - - - -\n",
            "0 - - 173 175 - 164 - - 27\n",
            "- 193 118 161 96 132 - 140 159 15\n",
            "55 152 - - 144 199 - - 190 -\n",
            "- 113 171 40 142 - - - - 181\n",
            "- - 183 - - 188 - 136 - 177\n",
            "186 143 - 153 114 178 128 - - 129\n",
            "\n",
            "Step 3\n",
            "166 168 131 - - 170 122 - - -\n",
            "189 196 - 167 - - - 198 197 -\n",
            "137 - 194 133 156 - 192 - - 163\n",
            "149 120 - 173 - 32 180 - 195 111\n",
            "- 115 118 - - 164 - - - 27\n",
            "55 - - - 175 199 89 159 - 154\n",
            "138 193 152 161 - - - 191 - 190\n",
            "113 171 - 147 - 142 - 187 112 181\n",
            "186 - - - 87 - 128 157 - 177\n",
            "- 143 183 - 178 188 - 50 - 129\n",
            "\n",
            "Step 4\n",
            "168 - 131 98 - 170 - - 174 100\n",
            "189 - 196 - 167 106 198 - - 197\n",
            "- 165 - 156 - 43 - 185 195 163\n",
            "- - 120 - 173 180 192 184 - -\n",
            "149 - - - 175 - 179 - - -\n",
            "138 193 152 110 - - 199 191 - 190\n",
            "- - - - 161 - 144 - 64 -\n",
            "130 - 171 - 147 - 36 - 136 -\n",
            "- 79 153 85 - - - 187 157 -\n",
            "186 143 183 107 - - 188 - - 177\n",
            "\n",
            "Step 5\n",
            "168 - 196 131 - - 160 169 - 174\n",
            "- 194 - 156 - 170 - 198 127 -\n",
            "165 - - - 167 164 192 - - 197\n",
            "115 137 133 173 175 - - - 195 73\n",
            "- 193 52 126 - 180 - 191 - 48\n",
            "149 - - - - 139 - - 172 -\n",
            "141 - 118 110 - 132 199 - 145 190\n",
            "130 171 - 147 161 90 - 128 157 -\n",
            "47 - - - 142 114 - - 158 -\n",
            "186 183 - - 107 178 188 187 - 177\n",
            "\n"
          ]
        }
      ],
      "source": [
        "import random\n",
        "import time\n",
        "\n",
        "# Define mall dimensions (rows x columns)\n",
        "rows, cols = 10, 10\n",
        "\n",
        "# Initialize mall as 2D grid\n",
        "mall = [['-' for _ in range(cols)] for _ in range(rows)]\n",
        "\n",
        "# Randomly place customers in the mall\n",
        "customer_positions = {}\n",
        "for customer_id in df.index:\n",
        "    row, col = random.randint(0, rows-1), random.randint(0, cols-1)\n",
        "    mall[row][col] = str(customer_id)\n",
        "    customer_positions[customer_id] = (row, col)\n",
        "\n",
        "def print_mall(mall):\n",
        "    \"\"\"Print the mall grid.\"\"\"\n",
        "    for row in mall:\n",
        "        print(' '.join(row))\n",
        "    print()\n",
        "\n",
        "# Simulate customer movements\n",
        "def simulate_movements(mall, customer_positions, steps=10):\n",
        "    \"\"\"Simulate customer movements for a given number of steps.\"\"\"\n",
        "    directions = [(0, 1), (1, 0), (0, -1), (-1, 0)]  # Right, Down, Left, Up\n",
        "    \n",
        "    for step in range(steps):\n",
        "        print(f\"Step {step+1}\")\n",
        "        \n",
        "        # Move each customer\n",
        "        for customer_id, (row, col) in customer_positions.items():\n",
        "            mall[row][col] = '-'  # Empty the current position\n",
        "            \n",
        "            # Randomly choose a direction\n",
        "            d_row, d_col = random.choice(directions)\n",
        "            \n",
        "            # Update the new position\n",
        "            new_row, new_col = row + d_row, col + d_col\n",
        "            \n",
        "            # Boundary conditions\n",
        "            new_row = min(max(new_row, 0), rows - 1)\n",
        "            new_col = min(max(new_col, 0), cols - 1)\n",
        "            \n",
        "            # Move customer to the new position\n",
        "            mall[new_row][new_col] = str(customer_id)\n",
        "            customer_positions[customer_id] = (new_row, new_col)\n",
        "        \n",
        "        # Print the mall layout and simulate real-time by pausing\n",
        "        print_mall(mall)\n",
        "        time.sleep(1)\n",
        "\n",
        "# Run the simulation for 5 steps to demonstrate\n",
        "simulate_movements(mall, customer_positions, steps=5)\n"
      ]
    }
  ],
  "metadata": {
    "colab": {
      "provenance": []
    },
    "kernelspec": {
      "display_name": "Python 3",
      "name": "python3"
    },
    "language_info": {
      "codemirror_mode": {
        "name": "ipython",
        "version": 3
      },
      "file_extension": ".py",
      "mimetype": "text/x-python",
      "name": "python",
      "nbconvert_exporter": "python",
      "pygments_lexer": "ipython3",
      "version": "3.9.12"
    }
  },
  "nbformat": 4,
  "nbformat_minor": 0
}
